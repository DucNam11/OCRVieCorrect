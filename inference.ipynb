{
 "cells": [
  {
   "cell_type": "code",
   "execution_count": 1,
   "metadata": {},
   "outputs": [],
   "source": [
    "from tool.predictor import Predictor\n",
    "import time\n",
    "from tool.utils import extract_phrases\n",
    "\n",
    "model_predictor = Predictor(device='cpu', model_type='seq2seq', weight_path='./weights/seq2seq_0.pth')"
   ]
  },
  {
   "cell_type": "code",
   "execution_count": 2,
   "metadata": {},
   "outputs": [
    {
     "data": {
      "text/plain": [
       "['Trên cơ sở kết quả kiểm tra hiện trạng',\n",
       " 'Tòa án nhân dân tối cao xem xét',\n",
       " 'lập phương án sắp xếp lại']"
      ]
     },
     "execution_count": 2,
     "metadata": {},
     "output_type": "execute_result"
    }
   ],
   "source": [
    "extract_phrases(\"Trên cơ sở kết quả kiểm tra hiện trạng, Tòa án nhân dân tối cao xem xét, lập phương án sắp xếp lại.\")"
   ]
  },
  {
   "cell_type": "code",
   "execution_count": 3,
   "metadata": {},
   "outputs": [],
   "source": [
    "unacc_paragraphs = [\n",
    "    \"họp tác xã\"\n",
    "]"
   ]
  },
  {
   "cell_type": "code",
   "execution_count": 4,
   "metadata": {},
   "outputs": [
    {
     "name": "stdout",
     "output_type": "stream",
     "text": [
      "Results: \n",
      "==============================================================================================\n",
      "họp tác xã\n",
      "----------------------------------------------------------------------------------------------\n",
      "hợp tác xã\n"
     ]
    },
    {
     "name": "stderr",
     "output_type": "stream",
     "text": [
      "c:\\Users\\Admin\\Desktop\\VietnameseOcrCorrection-master\\tool\\predictor.py:39: UserWarning: Creating a tensor from a list of numpy.ndarrays is extremely slow. Please consider converting the list to a single numpy.ndarray with numpy.array() before converting to a tensor. (Triggered internally at ..\\torch\\csrc\\utils\\tensor_new.cpp:278.)\n",
      "  return torch.LongTensor(src_text).to(self.device)\n"
     ]
    }
   ],
   "source": [
    "start = time.time()\n",
    "print('Results: ')\n",
    "for i, p in enumerate(unacc_paragraphs):\n",
    "    outs = model_predictor.predict(p.strip(), NGRAM=6)\n",
    "    print(\"==============================================================================================\")\n",
    "    print(p)\n",
    "    print(\"----------------------------------------------------------------------------------------------\")\n",
    "    print(outs)\n",
    "end = time.time()"
   ]
  },
  {
   "cell_type": "code",
   "execution_count": 5,
   "metadata": {},
   "outputs": [
    {
     "name": "stdout",
     "output_type": "stream",
     "text": [
      "Estimated time:  0.16057252883911133\n"
     ]
    }
   ],
   "source": [
    "print('Estimated time: ', end - start)"
   ]
  }
 ],
 "metadata": {
  "kernelspec": {
   "display_name": "Python 3",
   "language": "python",
   "name": "python3"
  },
  "language_info": {
   "codemirror_mode": {
    "name": "ipython",
    "version": 3
   },
   "file_extension": ".py",
   "mimetype": "text/x-python",
   "name": "python",
   "nbconvert_exporter": "python",
   "pygments_lexer": "ipython3",
   "version": "3.11.9"
  }
 },
 "nbformat": 4,
 "nbformat_minor": 4
}
